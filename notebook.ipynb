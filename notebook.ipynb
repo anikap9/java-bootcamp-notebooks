{
 "cells": [
  {
   "cell_type": "code",
   "execution_count": null,
   "id": "20e8e078-0190-478c-9072-6d827e9b978f",
   "metadata": {},
   "outputs": [],
   "source": [
    "System.out.println(\"HI\");"
   ]
  },
  {
   "cell_type": "markdown",
   "id": "9432d08c-d257-492e-85aa-d87fbb2dbd11",
   "metadata": {},
   "source": [
    "Write a hello world statement"
   ]
  },
  {
   "cell_type": "code",
   "execution_count": null,
   "id": "41a58225-35f9-48cf-9a11-bf9717670365",
   "metadata": {},
   "outputs": [],
   "source": []
  }
 ],
 "metadata": {
  "kernelspec": {
   "display_name": "Java",
   "language": "java",
   "name": "java"
  },
  "language_info": {
   "codemirror_mode": "java",
   "file_extension": ".jshell",
   "mimetype": "text/x-java-source",
   "name": "Java",
   "pygments_lexer": "java",
   "version": "22.0.2"
  }
 },
 "nbformat": 4,
 "nbformat_minor": 5
}
